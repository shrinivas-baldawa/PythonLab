{
  "nbformat": 4,
  "nbformat_minor": 0,
  "metadata": {
    "colab": {
      "name": "01.ipyn",
      "provenance": [],
      "collapsed_sections": [],
      "authorship_tag": "ABX9TyPUdGR3TyRHhe8oXDbbJR/Z",
      "include_colab_link": true
    },
    "kernelspec": {
      "name": "python3",
      "display_name": "Python 3"
    }
  },
  "cells": [
    {
      "cell_type": "markdown",
      "metadata": {
        "id": "view-in-github",
        "colab_type": "text"
      },
      "source": [
        "<a href=\"https://colab.research.google.com/github/shrinivas-baldawa/PythonLab/blob/main/01_ipyn.ipynb\" target=\"_parent\"><img src=\"https://colab.research.google.com/assets/colab-badge.svg\" alt=\"Open In Colab\"/></a>"
      ]
    },
    {
      "cell_type": "code",
      "metadata": {
        "colab": {
          "base_uri": "https://localhost:8080/"
        },
        "id": "Ov1qw68VvmNE",
        "outputId": "7f546e6d-746e-4d63-9ba2-f93f5b7547bd"
      },
      "source": [
        "x=5\r\n",
        "print(type(x))"
      ],
      "execution_count": null,
      "outputs": [
        {
          "output_type": "stream",
          "text": [
            "<class 'int'>\n"
          ],
          "name": "stdout"
        }
      ]
    },
    {
      "cell_type": "code",
      "metadata": {
        "colab": {
          "base_uri": "https://localhost:8080/"
        },
        "id": "8RIDIJpCvosY",
        "outputId": "020c4de1-1640-49e3-d85e-aa11682b4130"
      },
      "source": [
        "sentence = \"Hello World\"\r\n",
        "print(sentence)\r\n",
        "print(type(sentence))"
      ],
      "execution_count": null,
      "outputs": [
        {
          "output_type": "stream",
          "text": [
            "Hello World\n",
            "<class 'str'>\n"
          ],
          "name": "stdout"
        }
      ]
    },
    {
      "cell_type": "code",
      "metadata": {
        "colab": {
          "base_uri": "https://localhost:8080/"
        },
        "id": "PVn-IGXwwAxW",
        "outputId": "8fd040b1-48c1-4177-b3c7-329acaa052f1"
      },
      "source": [
        "paragraph = \"\"\"This is a paragraph. It is\r\n",
        "made of multiple lines and sone extagfaskjndaldaouh a\"\"\"\r\n",
        "print(paragraph)\r\n",
        "print(type(paragraph))"
      ],
      "execution_count": null,
      "outputs": [
        {
          "output_type": "stream",
          "text": [
            "This is a paragraph. It is\n",
            "made of multiple lines and sone extagfaskjndaldaouh a\n",
            "<class 'str'>\n"
          ],
          "name": "stdout"
        }
      ]
    },
    {
      "cell_type": "code",
      "metadata": {
        "colab": {
          "base_uri": "https://localhost:8080/"
        },
        "id": "GKYk5BjxwhIt",
        "outputId": "962a1dce-3f85-4269-aaf5-3c6270e1a280"
      },
      "source": [
        "#program to add 2 numbers\r\n",
        "\r\n",
        "def addition(a,b):\r\n",
        "  print(a+b)\r\n",
        "\r\n",
        "addition(5,10)"
      ],
      "execution_count": null,
      "outputs": [
        {
          "output_type": "stream",
          "text": [
            "15\n"
          ],
          "name": "stdout"
        }
      ]
    },
    {
      "cell_type": "code",
      "metadata": {
        "colab": {
          "base_uri": "https://localhost:8080/"
        },
        "id": "KEa_BdGyxdhx",
        "outputId": "5beec6c5-f2b1-40ea-e32f-41bc0197460d"
      },
      "source": [
        "#program to subtract 2 numbers\r\n",
        "\r\n",
        "def subtraction(a,b):\r\n",
        "  print(a-b)\r\n",
        "\r\n",
        "subtraction(355.055,94510)"
      ],
      "execution_count": null,
      "outputs": [
        {
          "output_type": "stream",
          "text": [
            "-94154.945\n"
          ],
          "name": "stdout"
        }
      ]
    },
    {
      "cell_type": "code",
      "metadata": {
        "colab": {
          "base_uri": "https://localhost:8080/"
        },
        "id": "XSVZGN7axRq5",
        "outputId": "be2e685b-c2d9-48d2-d9e0-6264a0b69232"
      },
      "source": [
        "addition(35,66.32)"
      ],
      "execution_count": null,
      "outputs": [
        {
          "output_type": "stream",
          "text": [
            "101.32\n"
          ],
          "name": "stdout"
        }
      ]
    },
    {
      "cell_type": "code",
      "metadata": {
        "colab": {
          "base_uri": "https://localhost:8080/"
        },
        "id": "ucpYr0Zvx1MV",
        "outputId": "a53c618e-c7c6-485d-b8a6-39cf4720d198"
      },
      "source": [
        "subtraction(464,674)"
      ],
      "execution_count": null,
      "outputs": [
        {
          "output_type": "stream",
          "text": [
            "-210\n"
          ],
          "name": "stdout"
        }
      ]
    },
    {
      "cell_type": "code",
      "metadata": {
        "colab": {
          "base_uri": "https://localhost:8080/"
        },
        "id": "97lI8r1qx5OO",
        "outputId": "8697ad09-e798-4bb0-fbd8-5b1a74086e29"
      },
      "source": [
        "a = 330\r\n",
        "b = 221\r\n",
        "\r\n",
        "if a<b:\r\n",
        "  print(\"a is less than b\")\r\n",
        "\r\n",
        "else:\r\n",
        "  print(\"a is greater than b\")"
      ],
      "execution_count": null,
      "outputs": [
        {
          "output_type": "stream",
          "text": [
            "a is greater than b\n"
          ],
          "name": "stdout"
        }
      ]
    },
    {
      "cell_type": "code",
      "metadata": {
        "colab": {
          "base_uri": "https://localhost:8080/"
        },
        "id": "kFYiEIsQyI45",
        "outputId": "35496c9f-81d6-4c73-8e60-10a982ec0fd3"
      },
      "source": [
        "a = 339\r\n",
        "b = 339\r\n",
        "\r\n",
        "if a<b:\r\n",
        "  print(\"a is less than b\")\r\n",
        "\r\n",
        "elif a==b:\r\n",
        "  print(\"a is equal to b\")\r\n",
        "\r\n",
        "else:\r\n",
        "  print(\"a is greater than b\")"
      ],
      "execution_count": null,
      "outputs": [
        {
          "output_type": "stream",
          "text": [
            "a is equal to b\n"
          ],
          "name": "stdout"
        }
      ]
    }
  ]
}